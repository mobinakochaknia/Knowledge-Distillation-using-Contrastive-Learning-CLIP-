{
  "cells": [
    {
      "cell_type": "markdown",
      "id": "be138f6f",
      "metadata": {
        "id": "be138f6f",
        "papermill": {
          "duration": 0.02181,
          "end_time": "2024-12-18T17:13:30.324107",
          "exception": false,
          "start_time": "2024-12-18T17:13:30.302297",
          "status": "completed"
        },
        "tags": []
      },
      "source": [
        "# Knowdge Distillation using Contrastive Learning\n"
      ]
    },
    {
      "cell_type": "markdown",
      "id": "376ecc79",
      "metadata": {
        "id": "376ecc79",
        "papermill": {
          "duration": 0.014958,
          "end_time": "2024-12-18T17:13:30.355437",
          "exception": false,
          "start_time": "2024-12-18T17:13:30.340479",
          "status": "completed"
        },
        "tags": []
      },
      "source": [
        " #### Student Name: mobina kochaknia\n",
        "\n",
        "\n",
        " #### Student ID: 401106396\n"
      ]
    },
    {
      "cell_type": "markdown",
      "id": "a1dba4d2",
      "metadata": {
        "id": "a1dba4d2",
        "papermill": {
          "duration": 0.014965,
          "end_time": "2024-12-18T17:13:30.385132",
          "exception": false,
          "start_time": "2024-12-18T17:13:30.370167",
          "status": "completed"
        },
        "tags": []
      },
      "source": [
        "In this exercise, we aim to distill knowledge from a large monolingual model into a smaller multilingual model using contrastive learning, specifically leveraging the CLIP model loss.\n",
        "\n",
        "We employ a small paired English-Persian dataset to define the loss pairs for our CLIP training. Given the substantial dataset size and batch size typically required for CLIP's loss computation (exceeding 19,000 samples per batch in standard tasks), which is impractical for our setup on Colab, we use a reduced batch size to focus on learning the procedure rather than achieving optimal performance, so we don't expect actual real-world results, only the training prcodure."
      ]
    },
    {
      "cell_type": "markdown",
      "id": "90e95f9e",
      "metadata": {
        "id": "90e95f9e",
        "papermill": {
          "duration": 0.014841,
          "end_time": "2024-12-18T17:13:30.414686",
          "exception": false,
          "start_time": "2024-12-18T17:13:30.399845",
          "status": "completed"
        },
        "tags": []
      },
      "source": [
        "CLIP (Contrastive Language-Image Pretraining) is a foundational model introduced by OpenAI to bridge the gap between text and image modalities. By aligning text descriptions and corresponding images in a shared embedding space, CLIP achieves remarkable zero-shot generalization capabilities across a wide range of tasks. It is trained on a massive dataset of image-text pairs using contrastive loss, ensuring that image embeddings align closely with their corresponding textual descriptions while remaining distinct from unrelated samples. This cross-modal alignment enables CLIP to perform tasks like image retrieval, captioning, and classification with minimal fine-tuning.\n",
        "\n",
        "The CLIP loss plays a crucial role in training the model by implementing a cross-entropy loss function in the contrastive learning framework. This loss operates on paired data, where each image-text pair is treated as a positive match, while all other pair combinations in the batch are considered negatives. The loss ensures that positive pairs receive high similarity scores, while negatives are penalized. However, achieving optimal results with CLIP loss often requires large batch sizes to provide sufficient negative samples, which can be computationally intensive. This makes training with limited resources challenging, necessitating adaptations such as smaller batch sizes or alternative strategies to approximate the training dynamics.\n",
        "\n",
        "\n",
        "Knowledge distillation is a technique used in machine learning to transfer knowledge from a large, complex model (the \"teacher\") to a smaller, more efficient model (the \"student\"). The primary goal of this process is to retain the performance and accuracy of the larger model while significantly reducing computational and memory requirements. This is achieved by training the student model to mimic the outputs of the teacher model, often through techniques such as matching soft probability distributions or intermediate representations. Knowledge distillation has become an essential approach in deploying machine learning models on resource-constrained devices such as smartphones and edge devices.\n",
        "\n",
        "In practice, knowledge distillation is not limited to replicating predictions; it can also involve transferring knowledge about internal features or learned representations.\n",
        "\n",
        "\n",
        "### Challenges in Resource-Constrained Settings\n",
        "CLIP’s reliance on large-scale datasets and batch sizes makes direct implementation computationally demanding. This exercise demonstrates an adaptation of the process, reducing batch size and dataset size to provide a practical understanding of the training procedure. While this approach sacrifices performance and real-world applicability, it highlights the mechanics of using CLIP loss for contrastive learning and lays the foundation for extending the process to larger datasets and batch sizes in future applications.\n",
        "\n",
        "\n",
        "\n",
        "### About CLIP and Contrastive Learning\n",
        "CLIP, developed by OpenAI, bridges the gap between text and image modalities by aligning corresponding embeddings in a shared space. It leverages contrastive loss to train on image-text pairs, ensuring that embeddings of positive pairs (e.g., an image and its corresponding caption) are highly similar, while embeddings of unrelated pairs remain distinct. The cross-entropy-based contrastive loss evaluates the similarity between positive pairs while penalizing mismatches for all other combinations within a batch.\n",
        "\n",
        "### Key aspects of CLIP loss include:\n",
        "\n",
        "- Positive Pairing: Encourages high similarity scores for embeddings of paired text and image data.\n",
        "- Negative Sampling: Penalizes mismatched pairs within the batch, requiring large batch sizes for effective performance due to the need for a diverse set of negative samples.\n",
        "\n"
      ]
    },
    {
      "cell_type": "markdown",
      "id": "ba7c7274",
      "metadata": {
        "id": "ba7c7274",
        "papermill": {
          "duration": 0.01457,
          "end_time": "2024-12-18T17:13:30.444777",
          "exception": false,
          "start_time": "2024-12-18T17:13:30.430207",
          "status": "completed"
        },
        "tags": []
      },
      "source": [
        "## !!! Note !!! You Should Answer to all the TODOs\n",
        "\n",
        "Also feel free to ask your questions on Quera."
      ]
    },
    {
      "cell_type": "markdown",
      "id": "e7da461e",
      "metadata": {
        "id": "e7da461e",
        "papermill": {
          "duration": 0.014905,
          "end_time": "2024-12-18T17:13:30.474341",
          "exception": false,
          "start_time": "2024-12-18T17:13:30.459436",
          "status": "completed"
        },
        "tags": []
      },
      "source": [
        "\n",
        "\n",
        "## Setup\n"
      ]
    },
    {
      "cell_type": "markdown",
      "id": "06e48967",
      "metadata": {
        "id": "06e48967",
        "papermill": {
          "duration": 0.014958,
          "end_time": "2024-12-18T17:13:30.503840",
          "exception": false,
          "start_time": "2024-12-18T17:13:30.488882",
          "status": "completed"
        },
        "tags": []
      },
      "source": [
        "We install Required Packages."
      ]
    },
    {
      "cell_type": "code",
      "execution_count": null,
      "id": "69339c7a",
      "metadata": {
        "colab": {
          "base_uri": "https://localhost:8080/"
        },
        "execution": {
          "iopub.execute_input": "2025-01-13T11:04:25.091406Z",
          "iopub.status.busy": "2025-01-13T11:04:25.091055Z",
          "iopub.status.idle": "2025-01-13T11:04:38.350034Z",
          "shell.execute_reply": "2025-01-13T11:04:38.348684Z",
          "shell.execute_reply.started": "2025-01-13T11:04:25.091364Z"
        },
        "id": "69339c7a",
        "outputId": "26a01592-43bf-4787-edff-e208647fe3f5",
        "papermill": {
          "duration": 20.264414,
          "end_time": "2024-12-18T17:13:50.783672",
          "exception": false,
          "start_time": "2024-12-18T17:13:30.519258",
          "status": "completed"
        },
        "tags": [],
        "trusted": true
      },
      "outputs": [
        {
          "name": "stdout",
          "output_type": "stream",
          "text": [
            "Downloading...\n",
            "From: https://drive.google.com/uc?id=1MVx_gIkX4tQ8ya2OsHt0mqLmw1Pf2CcK\n",
            "To: /kaggle/working/train.csv\n",
            "100%|██████████████████████████████████████| 7.35M/7.35M [00:00<00:00, 79.7MB/s]\n",
            "Downloading...\n",
            "From: https://drive.google.com/uc?id=1Co-dwJfWw-C_ral0hoAS_X94wN-_vbCj\n",
            "To: /kaggle/working/val.csv\n",
            "100%|███████████████████████████████████████| 2.45M/2.45M [00:00<00:00, 118MB/s]\n"
          ]
        }
      ],
      "source": [
        "!pip install -q gdown\n",
        "!gdown \"https://drive.google.com/uc?id=1MVx_gIkX4tQ8ya2OsHt0mqLmw1Pf2CcK\"\n",
        "!gdown \"https://drive.google.com/uc?id=1Co-dwJfWw-C_ral0hoAS_X94wN-_vbCj\""
      ]
    },
    {
      "cell_type": "code",
      "execution_count": null,
      "id": "70d93c5e",
      "metadata": {
        "colab": {
          "base_uri": "https://localhost:8080/"
        },
        "execution": {
          "iopub.execute_input": "2025-01-13T11:04:38.352160Z",
          "iopub.status.busy": "2025-01-13T11:04:38.351771Z",
          "iopub.status.idle": "2025-01-13T11:04:51.953892Z",
          "shell.execute_reply": "2025-01-13T11:04:51.953197Z",
          "shell.execute_reply.started": "2025-01-13T11:04:38.352124Z"
        },
        "id": "70d93c5e",
        "outputId": "d3ea6f0b-c864-465a-bf01-1312ccb78f8a",
        "papermill": {
          "duration": 24.516699,
          "end_time": "2024-12-18T17:14:15.316512",
          "exception": false,
          "start_time": "2024-12-18T17:13:50.799813",
          "status": "completed"
        },
        "tags": [],
        "trusted": true
      },
      "outputs": [
        {
          "name": "stdout",
          "output_type": "stream",
          "text": [
            "Requirement already satisfied: setuptools in /usr/local/lib/python3.10/dist-packages (71.0.4)\n"
          ]
        },
        {
          "name": "stderr",
          "output_type": "stream",
          "text": [
            "<ipython-input-2-16d6a20cb021>:4: DeprecationWarning: pkg_resources is deprecated as an API. See https://setuptools.pypa.io/en/latest/pkg_resources.html\n",
            "  import pkg_resources\n"
          ]
        },
        {
          "name": "stdout",
          "output_type": "stream",
          "text": [
            "open_clip-torch is NOT installed\n",
            "open_clip-torch was successfully installed.\n",
            "pandas (2.1.4) is installed\n",
            "numpy (1.26.4) is installed\n",
            "matplotlib (3.7.1) is installed\n",
            "transformers (4.44.2) is installed\n",
            "tqdm (4.66.5) is installed\n",
            "torch (2.4.1+cu121) is installed\n",
            "datasets (3.2.0) is installed\n"
          ]
        }
      ],
      "source": [
        "!pip install setuptools\n",
        "import sys\n",
        "import subprocess\n",
        "import pkg_resources\n",
        "\n",
        "def installPackages(packages):\n",
        "    def installPackage(package):\n",
        "        subprocess.check_call([sys.executable, \"-m\", \"pip\", \"install\", package])\n",
        "\n",
        "    for package in REQUIRED_PACKAGES:\n",
        "        try:\n",
        "            dist = pkg_resources.get_distribution(package)\n",
        "            print('{} ({}) is installed'.format(dist.key, dist.version))\n",
        "        except pkg_resources.DistributionNotFound:\n",
        "            print('{} is NOT installed'.format(package))\n",
        "            installPackage(package)\n",
        "            print('{} was successfully installed.'.format(package))\n",
        "\n",
        "REQUIRED_PACKAGES = [\n",
        "    'open_clip-torch',\n",
        "    'pandas',\n",
        "    'numpy',\n",
        "    'matplotlib',\n",
        "    'transformers',\n",
        "    'tqdm',\n",
        "    'torch',\n",
        "    'datasets',\n",
        "]\n",
        "\n",
        "installPackages(REQUIRED_PACKAGES)\n",
        "\n",
        "import gc\n",
        "import itertools\n",
        "import re\n",
        "import math\n",
        "from collections import Counter\n",
        "import random\n",
        "import string\n",
        "import uuid\n",
        "\n",
        "import numpy as np\n",
        "import pandas as pd\n",
        "import matplotlib.pyplot as plt\n",
        "\n",
        "import open_clip\n",
        "from open_clip import model as TE\n",
        "\n",
        "import torch\n",
        "import torch.nn as nn\n",
        "import torch.nn.functional as F\n",
        "from torch.utils.data import DataLoader\n",
        "from torch.optim.lr_scheduler import ReduceLROnPlateau\n",
        "\n",
        "from datasets import load_dataset, Dataset, Features, Array2D, Value\n",
        "from transformers import AutoConfig, AutoTokenizer, AutoModel, TFAutoModel\n",
        "\n",
        "from tqdm import tqdm"
      ]
    },
    {
      "cell_type": "markdown",
      "id": "f4c39c86",
      "metadata": {
        "id": "f4c39c86",
        "papermill": {
          "duration": 0.01563,
          "end_time": "2024-12-18T17:14:15.349709",
          "exception": false,
          "start_time": "2024-12-18T17:14:15.334079",
          "status": "completed"
        },
        "tags": []
      },
      "source": [
        "Beware to use cuda for training!"
      ]
    },
    {
      "cell_type": "code",
      "execution_count": null,
      "id": "fd519039",
      "metadata": {
        "execution": {
          "iopub.execute_input": "2025-01-13T11:04:51.958495Z",
          "iopub.status.busy": "2025-01-13T11:04:51.958248Z",
          "iopub.status.idle": "2025-01-13T11:04:51.962418Z",
          "shell.execute_reply": "2025-01-13T11:04:51.961677Z",
          "shell.execute_reply.started": "2025-01-13T11:04:51.958473Z"
        },
        "id": "fd519039",
        "papermill": {
          "duration": 0.024557,
          "end_time": "2024-12-18T17:14:15.389794",
          "exception": false,
          "start_time": "2024-12-18T17:14:15.365237",
          "status": "completed"
        },
        "tags": [],
        "trusted": true
      },
      "outputs": [],
      "source": [
        "def getDevice(which=\"cuda:0\", yellAtCpu=True):\n",
        "    if torch.cuda.is_available():\n",
        "        device = torch.device(which)\n",
        "    else:\n",
        "        if yellAtCpu:\n",
        "             raise Exception(\"I won't run on CPU!\")\n",
        "        device = torch.device(\"cpu\")\n",
        "\n",
        "    return device"
      ]
    },
    {
      "cell_type": "markdown",
      "id": "67a2eff9",
      "metadata": {
        "id": "67a2eff9",
        "papermill": {
          "duration": 0.016217,
          "end_time": "2024-12-18T17:14:15.422727",
          "exception": false,
          "start_time": "2024-12-18T17:14:15.406510",
          "status": "completed"
        },
        "tags": []
      },
      "source": [
        "#### Configs"
      ]
    },
    {
      "cell_type": "markdown",
      "id": "75c787a8",
      "metadata": {
        "id": "75c787a8",
        "papermill": {
          "duration": 0.016978,
          "end_time": "2024-12-18T17:14:15.455652",
          "exception": false,
          "start_time": "2024-12-18T17:14:15.438674",
          "status": "completed"
        },
        "tags": []
      },
      "source": [
        "These are our training configurations, read them!"
      ]
    },
    {
      "cell_type": "code",
      "execution_count": null,
      "id": "802d832e",
      "metadata": {
        "execution": {
          "iopub.execute_input": "2025-01-13T11:04:51.963485Z",
          "iopub.status.busy": "2025-01-13T11:04:51.963295Z",
          "iopub.status.idle": "2025-01-13T11:04:52.058091Z",
          "shell.execute_reply": "2025-01-13T11:04:52.057065Z",
          "shell.execute_reply.started": "2025-01-13T11:04:51.963468Z"
        },
        "id": "802d832e",
        "papermill": {
          "duration": 0.11541,
          "end_time": "2024-12-18T17:14:15.591685",
          "exception": false,
          "start_time": "2024-12-18T17:14:15.476275",
          "status": "completed"
        },
        "tags": [],
        "trusted": true
      },
      "outputs": [],
      "source": [
        "def Configs():\n",
        "    return {\n",
        "        \"device\": getDevice(),\n",
        "        \"reference_checkPoint\" : \"EVA02-E-14-plus\",                # teacher\n",
        "        \"candidate_checkpoint\" : \"setu4993/smaller-LaBSE\",         # student\n",
        "        \"train_path\" : \"train.csv\",\n",
        "        \"val_path\" : \"val.csv\",\n",
        "        \"save_path\" : \"./best-model.pth\",\n",
        "        \"english\" : \"en\",                                         # dont mind them\n",
        "        \"persian\" : \"fa\",\n",
        "        \"batch_size\": 128,                                        # should have been really big, but we can't here\n",
        "        \"lr\": 1e-4,\n",
        "        \"epochs\": 5,                                               # 40 minute per epoch\n",
        "        \"tok_percentile\" : 99,\n",
        "        \"temperature\": 20,\n",
        "        \"dropout\": 0.05,\n",
        "        \"unfreezed_layers\" : 10,\n",
        "        \"weight_decay\": 1e-5,\n",
        "        \"patience\": 1,\n",
        "        \"factor\" : 0.8,\n",
        "        \"reference_embedding\": 1024,                               # DONT MIND THESE\n",
        "        \"reference_context_length\" : 77,\n",
        "        \"reference_vocab_size\" : 49408,\n",
        "        \"reference_heads\" : 20,\n",
        "        \"reference_width\" : 1280,\n",
        "        \"reference_layers\" : 32,\n",
        "        \"cls_token_index\" : 0,\n",
        "        \"project_to\" : 1024,\n",
        "    }\n",
        "\n",
        "configs = Configs()"
      ]
    },
    {
      "cell_type": "markdown",
      "id": "7b95e360",
      "metadata": {
        "id": "7b95e360",
        "papermill": {
          "duration": 0.015595,
          "end_time": "2024-12-18T17:14:15.623791",
          "exception": false,
          "start_time": "2024-12-18T17:14:15.608196",
          "status": "completed"
        },
        "tags": []
      },
      "source": [
        "## Question Box\n",
        "### TODO (10pts)\n",
        "1- Why do we use temperature in training using contrastive learning?\\\n",
        "> The temperature parameter in contrastive learning is used to scale the logits (similarity scores) before applying the softmax function in the contrastive loss computation. This scaling influences how sharply the probabilities are distributed over the possible pairs. A lower temperature sharpens the distribution, making the model assign higher confidence to the correct image-text pair, while penalizing incorrect pairs more strongly. On the other hand, a higher temperature results in a smoother probability distribution, reducing overconfidence. Proper tuning of the temperature parameter helps to balance the training dynamics, avoid overfitting, and improve the separation of positive and negative pairs in the embedding space.\\\n",
        "\n",
        "2- Why do we need to freeze some layers of a model? mention 2 reasons.\n",
        "> The temperature parameter in contrastive learning is used to scale the logits (similarity scores) before applying the softmax function in the contrastive loss computation, controlling the sharpness of the probability distribution. Lower temperatures sharpen the distribution, emphasizing correct image-text pairs while penalizing incorrect ones more strongly, whereas higher temperatures smooth the distribution to reduce overconfidence. Freezing some layers of a model serves two primary purposes: it prevents overfitting on smaller datasets by retaining robust, general features learned during pretraining and reduces computational costs by skipping gradient calculations and weight updates for frozen layers. This ensures efficient fine-tuning while maintaining the original model's learned knowledge. The tok_percentile parameter is used to define a threshold for token sequence lengths based on the dataset’s 99th percentile, ensuring that most sequences fit within a predefined maximum length, which optimizes memory usage and computational efficiency during training.\n",
        "<br/>\n",
        "\n",
        "\n",
        "3- Read the whole code and find out what tok_percentile is used for.\\\n",
        "> The `tok_percentile` parameter in the provided code is likely used to determine a threshold for token sequence lengths based on the percentile of the dataset. This is common in text processing when preparing input for a model with a fixed input size. By using the 99th percentile, the code ensures that 99% of tokenized sequences fit within a predefined maximum length, truncating or padding sequences as necessary. This strategy balances accommodating the majority of the data while avoiding excessively long sequences that would increase computational overhead."
      ]
    },
    {
      "cell_type": "markdown",
      "id": "6a9cfd8b",
      "metadata": {
        "id": "6a9cfd8b",
        "papermill": {
          "duration": 0.015679,
          "end_time": "2024-12-18T17:14:15.655199",
          "exception": false,
          "start_time": "2024-12-18T17:14:15.639520",
          "status": "completed"
        },
        "tags": []
      },
      "source": [
        "## Data and Preprocessing"
      ]
    },
    {
      "cell_type": "code",
      "execution_count": null,
      "id": "5d84bc5a",
      "metadata": {
        "execution": {
          "iopub.execute_input": "2025-01-13T11:04:52.059314Z",
          "iopub.status.busy": "2025-01-13T11:04:52.058996Z",
          "iopub.status.idle": "2025-01-13T11:04:52.078621Z",
          "shell.execute_reply": "2025-01-13T11:04:52.077986Z",
          "shell.execute_reply.started": "2025-01-13T11:04:52.059285Z"
        },
        "id": "5d84bc5a",
        "papermill": {
          "duration": 0.031369,
          "end_time": "2024-12-18T17:14:15.702439",
          "exception": false,
          "start_time": "2024-12-18T17:14:15.671070",
          "status": "completed"
        },
        "tags": [],
        "trusted": true
      },
      "outputs": [],
      "source": [
        "def getDatasetsCSV(prevEnCol, prevFaCol, newEnCol, newFaCol, trainPath, valPath):\n",
        "    df = pd.read_csv(trainPath)\n",
        "    dfVal = pd.read_csv(valPath)\n",
        "\n",
        "    if df.empty:\n",
        "        raise ValueError(\"Training dataset is empty or missing\")\n",
        "\n",
        "    if dfVal.empty:\n",
        "        raise ValueError(\"Validation dataset is empty or missing\")\n",
        "\n",
        "    dfTraind = df.loc[:, [prevEnCol, prevFaCol]].rename(columns={prevEnCol: newEnCol, prevFaCol: newFaCol})\n",
        "    dfVal = dfVal.loc[:, [prevEnCol, prevFaCol]].rename(columns={prevEnCol: newEnCol, prevFaCol: newFaCol})\n",
        "\n",
        "    datasetTrain = Dataset.from_pandas(dfTraind)\n",
        "    datasetVal = Dataset.from_pandas(dfVal)\n",
        "\n",
        "    return datasetTrain, datasetVal\n",
        "\n",
        "def getDsByLang(persianCol, englishCol):\n",
        "    def getPersianDs(dataset):\n",
        "        return dataset[persianCol]\n",
        "\n",
        "    def getEnglishDs(dataset):\n",
        "        return dataset[englishCol]\n",
        "\n",
        "    getPersianDs.label = persianCol\n",
        "    getEnglishDs.label = englishCol\n",
        "\n",
        "    return getPersianDs, getEnglishDs\n",
        "\n",
        "class Normalizer():\n",
        "    def __init__(self):\n",
        "        translation_src = ' ىكي“”0123456789%إأآئيؤةك'\n",
        "        translation_dst = ' یکی\"\"۰۱۲۳۴۵۶۷۸۹٪اااییوهک'\n",
        "\n",
        "        self.translations = str.maketrans(translation_src, translation_dst)\n",
        "\n",
        "        patterns = [\n",
        "            (r' {2,}', ' '),  # remove extra spaces\n",
        "            (r'\\n+', ' '),  # replace newlines with space\n",
        "            (r'\\u200c+', ' '),  # replace ZWNJs with space\n",
        "            (r'[ـ\\r]', '')  # remove keshide, carriage returns\n",
        "        ]\n",
        "\n",
        "        self.character_refinement_patterns = [(re.compile(pattern), repl) for pattern, repl in patterns]\n",
        "\n",
        "    def normalizeFa(self, text):\n",
        "        text = text.lower().translate(self.translations)\n",
        "        text = re.sub('[^a-zA-Z۰-۹آ-ی ]', ' ', text)\n",
        "\n",
        "        for pattern, repl in self.character_refinement_patterns:\n",
        "            text = pattern.sub(repl, text)\n",
        "        return text.strip()\n",
        "\n",
        "    def normalizeEn(self, text):\n",
        "        text = text.lower()\n",
        "        text = text.translate(str.maketrans('', '', string.punctuation)) # Remove punctuation\n",
        "        return text\n",
        "\n",
        "def applyPreprocess(datasets, configs=configs, Normalizer=Normalizer):\n",
        "    def applyRowNormalization(example):\n",
        "        example[configs['persian']] = normalizer.normalizeFa(example[configs['persian']])\n",
        "        example[configs['english']] = normalizer.normalizeEn(example[configs['english']])\n",
        "\n",
        "        return example\n",
        "\n",
        "    normalizer = Normalizer()\n",
        "\n",
        "    newDatasets = []\n",
        "    for dataset in datasets:\n",
        "        newDatasets.append(dataset.map(applyRowNormalization))\n",
        "\n",
        "    return newDatasets\n",
        "\n",
        "def preprocessSentence(text, lang, mostFreq=None, Normalizer=Normalizer, configs=configs):\n",
        "    normalizer = Normalizer()\n",
        "    if lang == configs['persian']:\n",
        "        normalized = normalizer.normalizeFa(text)\n",
        "    elif lang == configs['english']:\n",
        "        normalized = normalizer.normalizeEn(text)\n",
        "    else:\n",
        "        raise ValueError(\"Not supported lang\")\n",
        "\n",
        "    return normalized"
      ]
    },
    {
      "cell_type": "markdown",
      "id": "86190e87",
      "metadata": {
        "id": "86190e87",
        "papermill": {
          "duration": 0.016557,
          "end_time": "2024-12-18T17:14:15.735930",
          "exception": false,
          "start_time": "2024-12-18T17:14:15.719373",
          "status": "completed"
        },
        "tags": []
      },
      "source": [
        "## Utils\n",
        "### TODO: Complete these Utility functions (10pts)"
      ]
    },
    {
      "cell_type": "code",
      "execution_count": null,
      "id": "7b0c992a",
      "metadata": {
        "execution": {
          "iopub.execute_input": "2025-01-13T11:04:52.079642Z",
          "iopub.status.busy": "2025-01-13T11:04:52.079440Z",
          "iopub.status.idle": "2025-01-13T11:04:52.096866Z",
          "shell.execute_reply": "2025-01-13T11:04:52.096232Z",
          "shell.execute_reply.started": "2025-01-13T11:04:52.079624Z"
        },
        "id": "7b0c992a",
        "papermill": {
          "duration": 0.025354,
          "end_time": "2024-12-18T17:14:15.778667",
          "exception": false,
          "start_time": "2024-12-18T17:14:15.753313",
          "status": "completed"
        },
        "tags": [],
        "trusted": true
      },
      "outputs": [],
      "source": [
        "def getClsToken(tensor, configs=configs):\n",
        "    \"\"\"\n",
        "    Extracts the classification (CLS) token from the input tensor.\n",
        "\n",
        "    Parameters:\n",
        "        tensor (torch.Tensor): The input tensor of shape (batch_size, seq_length, hidden_dim).\n",
        "        configs (dict): A dictionary containing configuration settings. Must include the key \"cls_token_index\"\n",
        "                        which specifies the index of the CLS token in the sequence dimension.\n",
        "\n",
        "    Returns:\n",
        "        torch.Tensor: A tensor containing the CLS token for each example in the batch,\n",
        "                      of shape (batch_size, 1, hidden_dim).\n",
        "    \"\"\"\n",
        "    clsId = configs[\"cls_token_index\"]\n",
        "    return tensor[:, clsId, :]\n",
        "\n",
        "def flattenMiddle(tensor):\n",
        "    \"\"\"\n",
        "    Flattens the middle dimension (sequence length) of the input tensor, removing it.\n",
        "\n",
        "    Parameters:\n",
        "        tensor (torch.Tensor): The input tensor of shape (batch_size, seq_length, hidden_dim).\n",
        "\n",
        "    Returns:\n",
        "        torch.Tensor: A tensor of shape (batch_size, hidden_dim) with the middle dimension flattened out.\n",
        "    \"\"\"\n",
        "    if len(tensor.shape) == 3:\n",
        "        batch_size, seq_length, hidden_dim = tensor.shape\n",
        "        return tensor.view(batch_size, -1)\n",
        "    return tensor\n",
        "\n",
        "def freezeModel(model):\n",
        "    \"\"\"\n",
        "    Freeze all parameters of a given model.\n",
        "    Parameters:\n",
        "        model (torch.nn.Module): The PyTorch model whose parameters are to be frozen.\n",
        "    \"\"\"\n",
        "    for param in model.parameters():\n",
        "        param.requires_grad = False\n",
        "    return model"
      ]
    },
    {
      "cell_type": "code",
      "execution_count": null,
      "id": "2489bf4f",
      "metadata": {
        "execution": {
          "iopub.execute_input": "2025-01-13T11:04:52.097900Z",
          "iopub.status.busy": "2025-01-13T11:04:52.097633Z",
          "iopub.status.idle": "2025-01-13T11:04:52.114277Z",
          "shell.execute_reply": "2025-01-13T11:04:52.113650Z",
          "shell.execute_reply.started": "2025-01-13T11:04:52.097869Z"
        },
        "id": "2489bf4f",
        "papermill": {
          "duration": 0.026945,
          "end_time": "2024-12-18T17:14:15.822548",
          "exception": false,
          "start_time": "2024-12-18T17:14:15.795603",
          "status": "completed"
        },
        "tags": [],
        "trusted": true
      },
      "outputs": [],
      "source": [
        "def plotMetric(metricData, metricName):\n",
        "    if metricName == None or metricName not in metricData:\n",
        "        raise ValueError(\"No such metric\")\n",
        "    metricData[metricName].plot()\n",
        "    plt.xlabel('Epochs')\n",
        "    plt.ylabel(metricName)\n",
        "    plt.title(f'Plot of {metricName}')\n",
        "    plt.show()\n",
        "\n",
        "threshold=1\n",
        "def calcPrcentileTokens(dataset, tokenizer, field, percentile=configs[\"tok_percentile\"], thershold=1):\n",
        "    \"\"\"\n",
        "    Calculate the token length at a specific percentile for a dataset field.\n",
        "\n",
        "    This function tokenizes the data in the specified field of the dataset and calculates\n",
        "    the token length at the given percentile. An optional threshold can be added to the result.\n",
        "\n",
        "    Parameters:\n",
        "        dataset (dict or Dataset): The dataset containing the data to be tokenized.\n",
        "        tokenizer (callable): A tokenizer function or object with a callable interface\n",
        "                              (e.g., HuggingFace tokenizer).\n",
        "        field (str): The field in the dataset whose token lengths are to be calculated.\n",
        "        percentile (float, optional): The percentile to compute (default is the value in\n",
        "                                       `configs[\"tok_percentile\"]`).\n",
        "        thershold (int, optional): A value to add to the calculated percentile token length\n",
        "                                    (default is 1).\n",
        "\n",
        "    Returns:\n",
        "        int: The token length at the specified percentile plus the threshold.\n",
        "\n",
        "    Raises:\n",
        "        KeyError: If the specified field does not exist in the dataset.\n",
        "        TypeError: If `tokenized` is not in the expected format.\n",
        "\n",
        "    Example:\n",
        "        dataset = {\"text\": [\"This is a sentence.\", \"Another example sentence.\"]}\n",
        "        tokenizer = lambda x: {\"input_ids\": [[1, 2, 3, 4], [5, 6, 7, 8, 9]]}\n",
        "        field = \"text\"\n",
        "        calcPrcentileTokens(dataset, tokenizer, field, percentile=95, thershold=2)\n",
        "\n",
        "    Notes:\n",
        "        - If the tokenized output is a dictionary (e.g., HuggingFace tokenizers), it assumes\n",
        "          that `input_ids` contains the token sequences.\n",
        "        - If the tokenized output is a tensor, nonzero token counts are used to determine lengths.\n",
        "    \"\"\"\n",
        "    tokenized = tokenizer(dataset[field])\n",
        "    if not isinstance(tokenized, torch.Tensor):\n",
        "        tokenLengths = list(map(lambda sen: len(sen), tokenized['input_ids']))\n",
        "    else:\n",
        "        tokenLengths = [tensor.nonzero().size(0) for tensor in tokenized]\n",
        "    percentileLength = np.percentile(tokenLengths, percentile)\n",
        "    return int(percentileLength) + 1\n",
        "\n",
        "# Dont Touch This\n",
        "def TextEncoder(configs):\n",
        "    newModel = TE.TextTransformer(context_length=configs['reference_context_length'],\n",
        "                                 vocab_size=configs[\"reference_vocab_size\"],\n",
        "                                 width=configs[\"reference_width\"],\n",
        "                                 layers=configs[\"reference_layers\"],\n",
        "                                 heads=configs[\"reference_heads\"],\n",
        "                                 output_dim=configs[\"reference_embedding\"])\n",
        "    return newModel\n"
      ]
    },
    {
      "cell_type": "markdown",
      "id": "ee90637f",
      "metadata": {
        "id": "ee90637f",
        "papermill": {
          "duration": 0.016248,
          "end_time": "2024-12-18T17:14:15.854449",
          "exception": false,
          "start_time": "2024-12-18T17:14:15.838201",
          "status": "completed"
        },
        "tags": []
      },
      "source": [
        "## Models"
      ]
    },
    {
      "cell_type": "markdown",
      "id": "7f75d675",
      "metadata": {
        "id": "7f75d675",
        "papermill": {
          "duration": 0.016386,
          "end_time": "2024-12-18T17:14:15.886639",
          "exception": false,
          "start_time": "2024-12-18T17:14:15.870253",
          "status": "completed"
        },
        "tags": []
      },
      "source": [
        "### TODO: Compelete the Swish and LinearProjection functions based on the pydoc provided (15pts)"
      ]
    },
    {
      "cell_type": "code",
      "execution_count": null,
      "id": "83acbdd5",
      "metadata": {
        "execution": {
          "iopub.execute_input": "2025-01-13T11:04:52.116578Z",
          "iopub.status.busy": "2025-01-13T11:04:52.116387Z",
          "iopub.status.idle": "2025-01-13T11:04:52.133420Z",
          "shell.execute_reply": "2025-01-13T11:04:52.132780Z",
          "shell.execute_reply.started": "2025-01-13T11:04:52.116561Z"
        },
        "id": "83acbdd5",
        "papermill": {
          "duration": 0.02619,
          "end_time": "2024-12-18T17:14:15.929057",
          "exception": false,
          "start_time": "2024-12-18T17:14:15.902867",
          "status": "completed"
        },
        "tags": [],
        "trusted": true
      },
      "outputs": [],
      "source": [
        "class Swish(nn.Module):\n",
        "    \"\"\"\n",
        "    Implements the Swish activation function.\n",
        "    Parameters:\n",
        "        beta (float, optional): The scaling parameter for the input x in the sigmoid\n",
        "                                function. Default is 1.0.\n",
        "    \"\"\"\n",
        "    def __init__(self, beta=1.0):\n",
        "        super().__init__()\n",
        "        self.beta = beta\n",
        "\n",
        "    def forward(self, x):\n",
        "        return x * torch.sigmoid(self.beta * x)\n",
        "\n",
        "\n",
        "class LinearProjection(nn.Module):\n",
        "    \"\"\"\n",
        "    A projection layer with Swish activation, batch normalization, dropout, and residual connections.\n",
        "\n",
        "    This module takes an input tensor, applies a series of transformations, and produces an\n",
        "    output tensor of the same shape, making use of residual connections and layer normalization.\n",
        "\n",
        "    Parameters:\n",
        "        embedding_dim (int): The dimensionality of the input embeddings.\n",
        "        projection_dim (int, optional): The dimensionality of the projection. Default is\n",
        "                                        `configs['project_to']`.\n",
        "        dropout (float, optional): The dropout rate. Default is `configs['dropout']`.\n",
        "\n",
        "    Layers:\n",
        "        - projection: Linear layer that projects the input to the specified `projection_dim`.\n",
        "        - swish: Swish activation function with a fixed beta of 1.0.\n",
        "        - batch_norm: Batch normalization applied after projection.\n",
        "        - fc: Fully connected layer for further transformations.\n",
        "        - dropout: Dropout applied to the output of the fully connected layer.\n",
        "        - layer_norm: Layer normalization applied after residual connection.\n",
        "\n",
        "    Methods:\n",
        "        forward(x):\n",
        "            Applies the projection, activation, normalization, dropout, residual connection,\n",
        "            and layer normalization to the input tensor.\n",
        "\n",
        "    Example:\n",
        "        model = LinearProjection(embedding_dim=128, projection_dim=64, dropout=0.1)\n",
        "        output = model(input_tensor)\n",
        "    \"\"\"\n",
        "    def __init__(self, embedding_dim, projection_dim=configs['project_to'], dropout=configs['dropout']):\n",
        "        super(LinearProjection, self).__init__()\n",
        "        self.projection = nn.Linear(embedding_dim, projection_dim)\n",
        "        self.swish = Swish(beta=1.0)\n",
        "        self.batch_norm = nn.BatchNorm1d(projection_dim)\n",
        "        self.fc = nn.Linear(projection_dim, projection_dim)\n",
        "        self.dropout = nn.Dropout(dropout)\n",
        "        self.layer_norm = nn.LayerNorm(projection_dim)\n",
        "\n",
        "\n",
        "    def forward(self, x):\n",
        "      residual = x\n",
        "      x = self.projection(x)\n",
        "      x = self.swish(x)\n",
        "\n",
        "      if x.ndim == 2:\n",
        "          x = self.batch_norm(x)\n",
        "      else:\n",
        "          x = self.batch_norm(x.transpose(1, 2)).transpose(1, 2)\n",
        "\n",
        "      x = self.fc(x)\n",
        "      x = self.dropout(x)\n",
        "\n",
        "      if residual.shape[1] != x.shape[1]:\n",
        "          residual = nn.Linear(residual.shape[1], x.shape[1]).to(residual.device)(residual)\n",
        "\n",
        "      x = x + residual\n",
        "      x = self.layer_norm(x)\n",
        "      return x\n"
      ]
    },
    {
      "cell_type": "code",
      "execution_count": null,
      "id": "ece3abb5",
      "metadata": {
        "execution": {
          "iopub.execute_input": "2025-01-13T11:04:52.134770Z",
          "iopub.status.busy": "2025-01-13T11:04:52.134521Z",
          "iopub.status.idle": "2025-01-13T11:04:52.152308Z",
          "shell.execute_reply": "2025-01-13T11:04:52.151663Z",
          "shell.execute_reply.started": "2025-01-13T11:04:52.134742Z"
        },
        "id": "ece3abb5",
        "papermill": {
          "duration": 0.024135,
          "end_time": "2024-12-18T17:14:15.969481",
          "exception": false,
          "start_time": "2024-12-18T17:14:15.945346",
          "status": "completed"
        },
        "tags": [],
        "trusted": true
      },
      "outputs": [],
      "source": [
        "class CandidateModel(nn.Module):\n",
        "    def __init__(self, model_name, unfreezeLayers, trainable=True):\n",
        "        super().__init__()\n",
        "        self.candidateProjection = LinearProjection(embedding_dim=configs[\"candidate_embedding\"])\n",
        "        self.configs = AutoConfig.from_pretrained(model_name)\n",
        "        self.tokenizer = AutoTokenizer.from_pretrained(model_name)\n",
        "        self.model = AutoModel.from_pretrained(model_name)\n",
        "        self.batchNorm = nn.BatchNorm1d(configs[\"candidate_embedding\"])\n",
        "        self.targetTokenIdx = configs[\"cls_token_index\"]\n",
        "\n",
        "    def forward(self, input_ids, attention_mask):\n",
        "        output = self.model(input_ids=input_ids, attention_mask=attention_mask)\n",
        "        clsEmbed = getClsToken(output.last_hidden_state)\n",
        "        clsEmbed = self.batchNorm(clsEmbed)\n",
        "        clsEmbed = self.candidateProjection(flattenMiddle(clsEmbed))\n",
        "        return clsEmbed"
      ]
    },
    {
      "cell_type": "markdown",
      "id": "4e0dd33e",
      "metadata": {
        "id": "4e0dd33e",
        "papermill": {
          "duration": 0.015974,
          "end_time": "2024-12-18T17:14:16.001750",
          "exception": false,
          "start_time": "2024-12-18T17:14:15.985776",
          "status": "completed"
        },
        "tags": []
      },
      "source": [
        "## Training"
      ]
    },
    {
      "cell_type": "markdown",
      "id": "92d73eeb",
      "metadata": {
        "id": "92d73eeb",
        "papermill": {
          "duration": 0.015543,
          "end_time": "2024-12-18T17:14:16.033408",
          "exception": false,
          "start_time": "2024-12-18T17:14:16.017865",
          "status": "completed"
        },
        "tags": []
      },
      "source": [
        "### TODO: Compelete the calcLoss functions based on the pydoc provided (20pts)"
      ]
    },
    {
      "cell_type": "code",
      "execution_count": null,
      "id": "c8e57071",
      "metadata": {
        "execution": {
          "iopub.execute_input": "2025-01-13T11:04:52.153211Z",
          "iopub.status.busy": "2025-01-13T11:04:52.153006Z",
          "iopub.status.idle": "2025-01-13T11:04:52.170191Z",
          "shell.execute_reply": "2025-01-13T11:04:52.169489Z",
          "shell.execute_reply.started": "2025-01-13T11:04:52.153193Z"
        },
        "id": "c8e57071",
        "papermill": {
          "duration": 0.024464,
          "end_time": "2024-12-18T17:14:16.074093",
          "exception": false,
          "start_time": "2024-12-18T17:14:16.049629",
          "status": "completed"
        },
        "tags": [],
        "trusted": true
      },
      "outputs": [],
      "source": [
        "def calcLoss(batch, referenceModel, candidateModel, temperature):\n",
        "    # Move tokenized inputs to the specified device\n",
        "    candidateTokenized = batch[\"candidate\"].to(configs[\"device\"])\n",
        "    referenceTokenized = batch[\"reference\"].to(configs[\"device\"])\n",
        "\n",
        "    # Generate embeddings from reference and candidate models\n",
        "    referenceEmbeds = referenceModel(referenceTokenized)\n",
        "    candidateEmbeds = candidateModel(\n",
        "        input_ids=candidateTokenized[\"input_ids\"],\n",
        "        attention_mask=candidateTokenized[\"attention_mask\"]\n",
        "    )\n",
        "\n",
        "    # Normalize embeddings to have unit length\n",
        "    referenceEmbeds = F.normalize(referenceEmbeds, p=2, dim=-1)\n",
        "    candidateEmbeds = F.normalize(candidateEmbeds, p=2, dim=-1)\n",
        "\n",
        "    logits = torch.mm(referenceEmbeds, candidateEmbeds.T) / temperature\n",
        "\n",
        "    # Create target matrix as an identity matrix\n",
        "    targets = torch.eye(logits.size(0), device=logits.device)\n",
        "\n",
        "    # Calculate symmetric cross-entropy loss\n",
        "    loss = (\n",
        "        F.cross_entropy(logits, targets.argmax(dim=1)) +\n",
        "        F.cross_entropy(logits.T, targets.argmax(dim=1))\n",
        "    ) / 2\n",
        "\n",
        "    # Calculate the number of correct predictions\n",
        "    preds = logits.argmax(dim=1)\n",
        "    corrects = torch.sum(preds == torch.arange(len(preds), device=logits.device)).item()\n",
        "\n",
        "    return loss, corrects\n"
      ]
    },
    {
      "cell_type": "markdown",
      "id": "5f1b4edc",
      "metadata": {
        "id": "5f1b4edc",
        "papermill": {
          "duration": 0.015457,
          "end_time": "2024-12-18T17:14:16.105022",
          "exception": false,
          "start_time": "2024-12-18T17:14:16.089565",
          "status": "completed"
        },
        "tags": []
      },
      "source": [
        "### TODO: Fill the trainLoop and valLoop (5pts)"
      ]
    },
    {
      "cell_type": "code",
      "execution_count": null,
      "id": "05f0bf97",
      "metadata": {
        "execution": {
          "iopub.execute_input": "2025-01-13T11:04:52.170983Z",
          "iopub.status.busy": "2025-01-13T11:04:52.170801Z",
          "iopub.status.idle": "2025-01-13T11:04:52.184351Z",
          "shell.execute_reply": "2025-01-13T11:04:52.183744Z",
          "shell.execute_reply.started": "2025-01-13T11:04:52.170966Z"
        },
        "id": "05f0bf97",
        "papermill": {
          "duration": 0.027335,
          "end_time": "2024-12-18T17:14:16.147775",
          "exception": false,
          "start_time": "2024-12-18T17:14:16.120440",
          "status": "completed"
        },
        "tags": [],
        "trusted": true
      },
      "outputs": [],
      "source": [
        "def trainLoop(dataloader, models, referenceTokenizer, candidateTokenizer, optimizer, temperature):\n",
        "    models['candidateModel'].train()\n",
        "\n",
        "    totalLoss = 0.0\n",
        "    totalCorrects = 0\n",
        "\n",
        "    print(\"Training Starts!\")\n",
        "    for (index, pairs) in tqdm(enumerate(dataloader), total=len(dataloader)):\n",
        "\n",
        "        candidteTokenized = candidateTokenizer(getPersianDs(pairs), padding='max_length', truncation=True, return_tensors=\"pt\", max_length=configs[\"fa_tok_percentile\"])\n",
        "        referenceTextTokenized = referenceTokenizer(getEnglishDs(pairs))\n",
        "\n",
        "        batch = {\n",
        "            \"candidate\" : candidteTokenized,\n",
        "            \"reference\" : referenceTextTokenized\n",
        "        }\n",
        "\n",
        "        optimizer.zero_grad()\n",
        "\n",
        "        loss, corrects = calcLoss(batch, models['referenceModel'], models['candidateModel'], temperature)\n",
        "        totalCorrects += corrects\n",
        "        totalLoss += loss.item()\n",
        "\n",
        "        loss.backward()\n",
        "        optimizer.step()\n",
        "\n",
        "    avgLoss = totalLoss / len(dataloader)\n",
        "    avgAccuracy = totalCorrects / len(dataloader.dataset)\n",
        "\n",
        "    print(\"train loss\", avgLoss)\n",
        "    print(\"train accuracy\", avgAccuracy)\n",
        "\n",
        "    return avgLoss, avgAccuracy\n",
        "\n",
        "def valLoop(dataloader, models, referenceTokenizer, candidateTokenizer, temperature):\n",
        "    models['candidateModel'].eval()\n",
        "\n",
        "    print(\"Testing Starts!\")\n",
        "    totalLoss = 0.0\n",
        "    totalCorrects = 0\n",
        "\n",
        "    with torch.no_grad():\n",
        "        for (index, pairs) in tqdm(enumerate(dataloader), total=len(dataloader)):\n",
        "            candidteTokenized = candidateTokenizer(getPersianDs(pairs), padding='max_length', truncation=True, return_tensors=\"pt\", max_length=configs[\"fa_tok_percentile\"])\n",
        "            referenceTextTokenized = referenceTokenizer(getEnglishDs(pairs))\n",
        "\n",
        "            batch = {\n",
        "                \"candidate\" : candidteTokenized,\n",
        "                \"reference\" : referenceTextTokenized\n",
        "            }\n",
        "\n",
        "            loss, corrects = calcLoss(batch, models['referenceModel'], models['candidateModel'], temperature)\n",
        "\n",
        "            totalCorrects += corrects\n",
        "            totalLoss += loss.item()\n",
        "\n",
        "    avgLoss = totalLoss / len(dataloader.dataset)\n",
        "    avgAccuracy = totalCorrects / len(dataloader.dataset)\n",
        "\n",
        "    print(\"test loss\", avgLoss)\n",
        "    print(\"test accuracy\", avgAccuracy)\n",
        "\n",
        "    return avgLoss, avgAccuracy"
      ]
    },
    {
      "cell_type": "code",
      "execution_count": null,
      "id": "f015a11f",
      "metadata": {
        "colab": {
          "base_uri": "https://localhost:8080/",
          "height": 116,
          "referenced_widgets": [
            "39fc6fc88e054e6a93899cd18a32c54e",
            "b6496aed55fc4821b9c34c9df964ea41",
            "d026f9b7990e45cda45f90488a062e0e",
            "c911cd0d705949388bd7dc3058d3ba2f",
            "4ce70c0aaeec4314b335b59665b0c7c0",
            "1cab5c5488154fc89b9b9df00061ea08",
            "afed2af0b24648948b5fc1f527cec21b",
            "4a10c562d5304412821ddf3125fa2495",
            "6ed026e7e76440f4b6487929508cd1cf",
            "988f2508f0ed420380b9d6b23fbb2275",
            "e696627f60094900a2c228fb9768a6a0",
            "c41dabeb8eb14e6fa7ea7827e6b7af26",
            "d4f6969870164860a57f735ecf8a1b61",
            "6e12c0a73ad5421ba44a8df5fc572adb",
            "6e079f9d0d384decafacac612dd39908",
            "7aedd1b577904a169735603587fd6033",
            "1f892c7dc5504e2ca5a4ab6efd6aabd3",
            "973ed29805424d89a1c6fe7f610dfe8f",
            "c1883770080c4d9cafc78e1876433f42",
            "8fd40b4077cf4177a00897301a5f7799",
            "e0b8b2de863d4d1f9f5f8854d5f54587",
            "05411ea189cf4c72945eba61d24a0533",
            "20973dfbb66d4906b963d10df3d0842f",
            "e73d2e188fa24af5bd012a20de380f04"
          ]
        },
        "execution": {
          "iopub.execute_input": "2025-01-13T11:04:52.185214Z",
          "iopub.status.busy": "2025-01-13T11:04:52.185038Z",
          "iopub.status.idle": "2025-01-13T11:04:57.306056Z",
          "shell.execute_reply": "2025-01-13T11:04:57.305218Z",
          "shell.execute_reply.started": "2025-01-13T11:04:52.185198Z"
        },
        "id": "f015a11f",
        "outputId": "7f18a0b9-4825-4a13-ab5a-32ba2842681c",
        "papermill": {
          "duration": 5.07707,
          "end_time": "2024-12-18T17:14:21.240389",
          "exception": false,
          "start_time": "2024-12-18T17:14:16.163319",
          "status": "completed"
        },
        "tags": [],
        "trusted": true
      },
      "outputs": [
        {
          "name": "stdout",
          "output_type": "stream",
          "text": [
            "Before Preproccess:  {'en': 'A person doing karate in a green business card.', 'fa': 'شخصی که کاراته انجام می دهد در کارت ویزیت سبز.'}\n"
          ]
        },
        {
          "data": {
            "application/vnd.jupyter.widget-view+json": {
              "model_id": "20973dfbb66d4906b963d10df3d0842f",
              "version_major": 2,
              "version_minor": 0
            },
            "text/plain": [
              "Map:   0%|          | 0/59999 [00:00<?, ? examples/s]"
            ]
          },
          "metadata": {},
          "output_type": "display_data"
        },
        {
          "data": {
            "application/vnd.jupyter.widget-view+json": {
              "model_id": "e73d2e188fa24af5bd012a20de380f04",
              "version_major": 2,
              "version_minor": 0
            },
            "text/plain": [
              "Map:   0%|          | 0/20000 [00:00<?, ? examples/s]"
            ]
          },
          "metadata": {},
          "output_type": "display_data"
        },
        {
          "name": "stdout",
          "output_type": "stream",
          "text": [
            "After Preproccess:  {'en': 'a person doing karate in a green business card', 'fa': 'شخصی که کاراته انجام می دهد در کارت ویزیت سبز'}\n"
          ]
        }
      ],
      "source": [
        "oldCols = [\"en\", \"fa\"]\n",
        "datasetTrain, datasetVal = getDatasetsCSV(oldCols[0], oldCols[1], configs[\"english\"], configs[\"persian\"], configs[\"train_path\"], configs[\"val_path\"])\n",
        "\n",
        "getPersianDs, getEnglishDs = getDsByLang(configs[\"persian\"], configs[\"english\"])\n",
        "print(\"Before Preproccess: \", datasetTrain[0])\n",
        "datasetTrain, datasetVal = applyPreprocess([datasetTrain, datasetVal], configs)\n",
        "print(\"After Preproccess: \", datasetTrain[0])\n",
        "trainDataloader = DataLoader(datasetTrain, batch_size=configs['batch_size'], shuffle=True)\n",
        "valDataloader = DataLoader(datasetVal, batch_size=configs['batch_size'], shuffle=False)"
      ]
    },
    {
      "cell_type": "markdown",
      "id": "aea3bc61",
      "metadata": {
        "id": "aea3bc61",
        "papermill": {
          "duration": 0.015811,
          "end_time": "2024-12-18T17:14:21.272664",
          "exception": false,
          "start_time": "2024-12-18T17:14:21.256853",
          "status": "completed"
        },
        "tags": []
      },
      "source": [
        "#### Tokenizers"
      ]
    },
    {
      "cell_type": "code",
      "execution_count": null,
      "id": "506ef8ec",
      "metadata": {
        "colab": {
          "base_uri": "https://localhost:8080/",
          "referenced_widgets": [
            "527cd86b7a3343b0bf2b03887809b872",
            "ff7f92b88725408390ae3a808f86357f",
            "9016c44685fe410f871799016accc444",
            "d568a273052c48b181941a1430499b5c",
            "b35b9da19b93441dbe0e41d425fb136b"
          ]
        },
        "execution": {
          "iopub.execute_input": "2025-01-13T11:04:57.307335Z",
          "iopub.status.busy": "2025-01-13T11:04:57.307006Z",
          "iopub.status.idle": "2025-01-13T11:05:08.854294Z",
          "shell.execute_reply": "2025-01-13T11:05:08.853619Z",
          "shell.execute_reply.started": "2025-01-13T11:04:57.307300Z"
        },
        "id": "506ef8ec",
        "outputId": "1d250013-6860-428f-c4a5-141d5b5d1861",
        "papermill": {
          "duration": 10.512708,
          "end_time": "2024-12-18T17:14:31.801887",
          "exception": false,
          "start_time": "2024-12-18T17:14:21.289179",
          "status": "completed"
        },
        "tags": [],
        "trusted": true
      },
      "outputs": [
        {
          "data": {
            "application/vnd.jupyter.widget-view+json": {
              "model_id": "527cd86b7a3343b0bf2b03887809b872",
              "version_major": 2,
              "version_minor": 0
            },
            "text/plain": [
              "config.json:   0%|          | 0.00/611 [00:00<?, ?B/s]"
            ]
          },
          "metadata": {},
          "output_type": "display_data"
        },
        {
          "data": {
            "application/vnd.jupyter.widget-view+json": {
              "model_id": "ff7f92b88725408390ae3a808f86357f",
              "version_major": 2,
              "version_minor": 0
            },
            "text/plain": [
              "tokenizer_config.json:   0%|          | 0.00/367 [00:00<?, ?B/s]"
            ]
          },
          "metadata": {},
          "output_type": "display_data"
        },
        {
          "data": {
            "application/vnd.jupyter.widget-view+json": {
              "model_id": "9016c44685fe410f871799016accc444",
              "version_major": 2,
              "version_minor": 0
            },
            "text/plain": [
              "vocab.txt:   0%|          | 0.00/1.47M [00:00<?, ?B/s]"
            ]
          },
          "metadata": {},
          "output_type": "display_data"
        },
        {
          "data": {
            "application/vnd.jupyter.widget-view+json": {
              "model_id": "d568a273052c48b181941a1430499b5c",
              "version_major": 2,
              "version_minor": 0
            },
            "text/plain": [
              "tokenizer.json:   0%|          | 0.00/4.31M [00:00<?, ?B/s]"
            ]
          },
          "metadata": {},
          "output_type": "display_data"
        },
        {
          "data": {
            "application/vnd.jupyter.widget-view+json": {
              "model_id": "b35b9da19b93441dbe0e41d425fb136b",
              "version_major": 2,
              "version_minor": 0
            },
            "text/plain": [
              "special_tokens_map.json:   0%|          | 0.00/125 [00:00<?, ?B/s]"
            ]
          },
          "metadata": {},
          "output_type": "display_data"
        }
      ],
      "source": [
        "referenceTokenizer = open_clip.get_tokenizer(configs[\"reference_checkPoint\"])\n",
        "\n",
        "candidateConfig = AutoConfig.from_pretrained(configs[\"candidate_checkpoint\"])\n",
        "candidateTokenizer = AutoTokenizer.from_pretrained(configs[\"candidate_checkpoint\"])\n",
        "\n",
        "configs = configs | {\"candidate_embedding\" : candidateConfig.hidden_size}\n",
        "\n",
        "faTokenPercentile = calcPrcentileTokens(datasetTrain, candidateTokenizer, configs[\"persian\"])\n",
        "faTokenPercentile\n",
        "\n",
        "enTokenPercentile = calcPrcentileTokens(datasetTrain, referenceTokenizer, configs[\"english\"])\n",
        "enTokenPercentile\n",
        "\n",
        "configs = configs | {\"en_tok_percentile\" : enTokenPercentile}\n",
        "configs = configs | {\"fa_tok_percentile\" : faTokenPercentile}"
      ]
    },
    {
      "cell_type": "markdown",
      "id": "d92d790a",
      "metadata": {
        "id": "d92d790a",
        "papermill": {
          "duration": 0.016378,
          "end_time": "2024-12-18T17:14:31.835725",
          "exception": false,
          "start_time": "2024-12-18T17:14:31.819347",
          "status": "completed"
        },
        "tags": []
      },
      "source": [
        "#### Models"
      ]
    },
    {
      "cell_type": "code",
      "execution_count": null,
      "id": "0cfbc447",
      "metadata": {
        "execution": {
          "iopub.execute_input": "2025-01-13T11:05:08.855360Z",
          "iopub.status.busy": "2025-01-13T11:05:08.855123Z",
          "iopub.status.idle": "2025-01-13T11:05:25.583594Z",
          "shell.execute_reply": "2025-01-13T11:05:25.582873Z",
          "shell.execute_reply.started": "2025-01-13T11:05:08.855340Z"
        },
        "id": "0cfbc447",
        "papermill": {
          "duration": 28.039003,
          "end_time": "2024-12-18T17:14:59.891005",
          "exception": false,
          "start_time": "2024-12-18T17:14:31.852002",
          "status": "completed"
        },
        "tags": [],
        "trusted": true,
        "colab": {
          "referenced_widgets": [
            "553ab0b8df5c427eaacf24fbeb3d2fd3"
          ]
        },
        "outputId": "a3f2db5e-b4c3-46fd-c079-07f68ae23171"
      },
      "outputs": [
        {
          "data": {
            "application/vnd.jupyter.widget-view+json": {
              "model_id": "553ab0b8df5c427eaacf24fbeb3d2fd3",
              "version_major": 2,
              "version_minor": 0
            },
            "text/plain": [
              "model.safetensors:   0%|          | 0.00/877M [00:00<?, ?B/s]"
            ]
          },
          "metadata": {},
          "output_type": "display_data"
        }
      ],
      "source": [
        "referenceModel = TextEncoder(configs).to(configs[\"device\"])\n",
        "candidateModel = CandidateModel(model_name=configs[\"candidate_checkpoint\"], unfreezeLayers=configs[\"unfreezed_layers\"]).to(configs[\"device\"])\n",
        "referenceModel = freezeModel(referenceModel)\n",
        "\n",
        "candidateModel.to(configs['device'])\n",
        "referenceModel.to(configs['device'])\n",
        "\n",
        "models = {\n",
        "    \"referenceModel\" : referenceModel,\n",
        "    \"candidateModel\" : candidateModel\n",
        "}"
      ]
    },
    {
      "cell_type": "markdown",
      "id": "59bc9d96",
      "metadata": {
        "id": "59bc9d96",
        "papermill": {
          "duration": 0.0162,
          "end_time": "2024-12-18T17:14:59.924176",
          "exception": false,
          "start_time": "2024-12-18T17:14:59.907976",
          "status": "completed"
        },
        "tags": []
      },
      "source": [
        "## Training\n",
        "### TODO (10pts) for running the code and (20pts) for achieving above 70 percent test accuracy"
      ]
    },
    {
      "cell_type": "code",
      "execution_count": null,
      "id": "03a0e5e7",
      "metadata": {
        "execution": {
          "iopub.execute_input": "2025-01-13T11:05:25.584967Z",
          "iopub.status.busy": "2025-01-13T11:05:25.584444Z",
          "iopub.status.idle": "2025-01-13T11:05:25.592936Z",
          "shell.execute_reply": "2025-01-13T11:05:25.592131Z",
          "shell.execute_reply.started": "2025-01-13T11:05:25.584942Z"
        },
        "id": "03a0e5e7",
        "papermill": {
          "duration": 0.025563,
          "end_time": "2024-12-18T17:14:59.966213",
          "exception": false,
          "start_time": "2024-12-18T17:14:59.940650",
          "status": "completed"
        },
        "tags": [],
        "trusted": true
      },
      "outputs": [],
      "source": [
        "temperature = torch.nn.Parameter(torch.tensor(configs['temperature']).float())\n",
        "optimizer = torch.optim.AdamW(list(models['candidateModel'].parameters()) + [temperature], weight_decay=configs[\"weight_decay\"], lr=configs['lr'])\n",
        "lrScheduler = ReduceLROnPlateau(optimizer, 'max', patience=configs['patience'], factor=configs['factor'])\n"
      ]
    },
    {
      "cell_type": "code",
      "execution_count": null,
      "id": "0a7f783c",
      "metadata": {
        "colab": {
          "base_uri": "https://localhost:8080/",
          "height": 211
        },
        "execution": {
          "iopub.execute_input": "2025-01-13T11:05:25.594067Z",
          "iopub.status.busy": "2025-01-13T11:05:25.593826Z",
          "iopub.status.idle": "2025-01-13T16:29:04.385280Z",
          "shell.execute_reply": "2025-01-13T16:29:04.384444Z",
          "shell.execute_reply.started": "2025-01-13T11:05:25.594046Z"
        },
        "id": "0a7f783c",
        "outputId": "8cb6c654-cc3d-486e-f1e7-1228fcef2c01",
        "papermill": {
          "duration": 17782.445889,
          "end_time": "2024-12-18T22:11:22.429709",
          "exception": false,
          "start_time": "2024-12-18T17:14:59.983820",
          "status": "completed"
        },
        "tags": [],
        "trusted": true
      },
      "outputs": [
        {
          "name": "stdout",
          "output_type": "stream",
          "text": [
            "Training Starts!\n"
          ]
        },
        {
          "name": "stderr",
          "output_type": "stream",
          "text": [
            "100%|██████████| 469/469 [49:23<00:00,  6.32s/it]\n"
          ]
        },
        {
          "name": "stdout",
          "output_type": "stream",
          "text": [
            "train loss 4.840164909484798\n",
            "train accuracy 0.30563842730712176\n",
            "Testing Starts!\n"
          ]
        },
        {
          "name": "stderr",
          "output_type": "stream",
          "text": [
            "100%|██████████| 157/157 [15:04<00:00,  5.76s/it]\n"
          ]
        },
        {
          "name": "stdout",
          "output_type": "stream",
          "text": [
            "test loss 0.03791418150663376\n",
            "test accuracy 0.54965\n",
            "Temperature at this epoch was : 19.94624900817871\n",
            "Training Starts!\n"
          ]
        },
        {
          "name": "stderr",
          "output_type": "stream",
          "text": [
            "100%|██████████| 469/469 [49:43<00:00,  6.36s/it]\n"
          ]
        },
        {
          "name": "stdout",
          "output_type": "stream",
          "text": [
            "train loss 4.83756319546242\n",
            "train accuracy 0.6071934532242204\n",
            "Testing Starts!\n"
          ]
        },
        {
          "name": "stderr",
          "output_type": "stream",
          "text": [
            "100%|██████████| 157/157 [15:04<00:00,  5.76s/it]\n"
          ]
        },
        {
          "name": "stdout",
          "output_type": "stream",
          "text": [
            "test loss 0.03790414729118347\n",
            "test accuracy 0.72875\n",
            "Temperature at this epoch was : 19.894001007080078\n",
            "Training Starts!\n"
          ]
        },
        {
          "name": "stderr",
          "output_type": "stream",
          "text": [
            "100%|██████████| 469/469 [49:41<00:00,  6.36s/it]\n"
          ]
        },
        {
          "name": "stdout",
          "output_type": "stream",
          "text": [
            "train loss 4.836523379344167\n",
            "train accuracy 0.741979032983883\n",
            "Testing Starts!\n"
          ]
        },
        {
          "name": "stderr",
          "output_type": "stream",
          "text": [
            "100%|██████████| 157/157 [14:59<00:00,  5.73s/it]\n"
          ]
        },
        {
          "name": "stdout",
          "output_type": "stream",
          "text": [
            "test loss 0.03789868862628937\n",
            "test accuracy 0.78505\n",
            "Temperature at this epoch was : 19.842512130737305\n",
            "Training Starts!\n"
          ]
        },
        {
          "name": "stderr",
          "output_type": "stream",
          "text": [
            "100%|██████████| 469/469 [49:43<00:00,  6.36s/it]\n"
          ]
        },
        {
          "name": "stdout",
          "output_type": "stream",
          "text": [
            "train loss 4.835883234101318\n",
            "train accuracy 0.8065967766129436\n",
            "Testing Starts!\n"
          ]
        },
        {
          "name": "stderr",
          "output_type": "stream",
          "text": [
            "100%|██████████| 157/157 [15:05<00:00,  5.77s/it]\n"
          ]
        },
        {
          "name": "stdout",
          "output_type": "stream",
          "text": [
            "test loss 0.03789442014694214\n",
            "test accuracy 0.836\n",
            "Temperature at this epoch was : 19.79182243347168\n",
            "Training Starts!\n"
          ]
        },
        {
          "name": "stderr",
          "output_type": "stream",
          "text": [
            "100%|██████████| 469/469 [49:48<00:00,  6.37s/it]\n"
          ]
        },
        {
          "name": "stdout",
          "output_type": "stream",
          "text": [
            "train loss 4.8353331246609885\n",
            "train accuracy 0.8562142702378372\n",
            "Testing Starts!\n"
          ]
        },
        {
          "name": "stderr",
          "output_type": "stream",
          "text": [
            "100%|██████████| 157/157 [15:03<00:00,  5.76s/it]"
          ]
        },
        {
          "name": "stdout",
          "output_type": "stream",
          "text": [
            "test loss 0.037891702461242675\n",
            "test accuracy 0.84775\n",
            "Temperature at this epoch was : 19.741456985473633\n",
            "Best accuracy of validation gained:  -inf\n",
            "Done!\n"
          ]
        },
        {
          "name": "stderr",
          "output_type": "stream",
          "text": [
            "\n"
          ]
        }
      ],
      "source": [
        "\n",
        "bestValAcc = float('-inf')\n",
        "\n",
        "metrics = pd.DataFrame(columns=[\"Avg-train-loss\", \"Avg-train-accuracy\",\"Avg-val-loss\", \"Avg-val-accuracy\"])\n",
        "\n",
        "for t in range(configs['epochs']):\n",
        "    trainLoss, trainAcc = trainLoop(trainDataloader, models, referenceTokenizer, candidateTokenizer, optimizer, temperature)\n",
        "    valLoss, valAcc = valLoop(valDataloader, models, referenceTokenizer, candidateTokenizer, temperature)\n",
        "\n",
        "    metrics.loc[t+1] = [trainLoss, trainAcc, valLoss, valAcc]\n",
        "\n",
        "    lrScheduler.step(valAcc)\n",
        "\n",
        "    print(\"Temperature at this epoch was :\", temperature.item())\n",
        "\n",
        "print(f'Best accuracy of validation gained: ', bestValAcc)\n",
        "print(\"Done!\")"
      ]
    },
    {
      "cell_type": "code",
      "execution_count": null,
      "id": "884ba162",
      "metadata": {
        "execution": {
          "iopub.execute_input": "2025-01-13T16:29:04.386356Z",
          "iopub.status.busy": "2025-01-13T16:29:04.386126Z",
          "iopub.status.idle": "2025-01-13T16:29:04.681975Z",
          "shell.execute_reply": "2025-01-13T16:29:04.681256Z",
          "shell.execute_reply.started": "2025-01-13T16:29:04.386335Z"
        },
        "id": "884ba162",
        "papermill": {
          "duration": 0.494729,
          "end_time": "2024-12-18T22:11:23.078241",
          "exception": false,
          "start_time": "2024-12-18T22:11:22.583512",
          "status": "completed"
        },
        "tags": [],
        "trusted": true,
        "outputId": "e343ebcb-b303-4a68-8c6d-5d593b15fde7"
      },
      "outputs": [
        {
          "data": {
            "image/png": "[encoded data removed]",
            "text/plain": [
              "<Figure size 640x480 with 1 Axes>"
            ]
          },
          "metadata": {},
          "output_type": "display_data"
        },
        {
          "data": {
            "text/html": [
              "<div>\n",
              "<style scoped>\n",
              "    .dataframe tbody tr th:only-of-type {\n",
              "        vertical-align: middle;\n",
              "    }\n",
              "\n",
              "    .dataframe tbody tr th {\n",
              "        vertical-align: top;\n",
              "    }\n",
              "\n",
              "    .dataframe thead th {\n",
              "        text-align: right;\n",
              "    }\n",
              "</style>\n",
              "<table border=\"1\" class=\"dataframe\">\n",
              "  <thead>\n",
              "    <tr style=\"text-align: right;\">\n",
              "      <th></th>\n",
              "      <th>Avg-train-loss</th>\n",
              "      <th>Avg-train-accuracy</th>\n",
              "      <th>Avg-val-loss</th>\n",
              "      <th>Avg-val-accuracy</th>\n",
              "    </tr>\n",
              "  </thead>\n",
              "  <tbody>\n",
              "    <tr>\n",
              "      <th>3</th>\n",
              "      <td>4.836523</td>\n",
              "      <td>0.741979</td>\n",
              "      <td>0.037899</td>\n",
              "      <td>0.78505</td>\n",
              "    </tr>\n",
              "    <tr>\n",
              "      <th>4</th>\n",
              "      <td>4.835883</td>\n",
              "      <td>0.806597</td>\n",
              "      <td>0.037894</td>\n",
              "      <td>0.83600</td>\n",
              "    </tr>\n",
              "    <tr>\n",
              "      <th>5</th>\n",
              "      <td>4.835333</td>\n",
              "      <td>0.856214</td>\n",
              "      <td>0.037892</td>\n",
              "      <td>0.84775</td>\n",
              "    </tr>\n",
              "  </tbody>\n",
              "</table>\n",
              "</div>"
            ],
            "text/plain": [
              "   Avg-train-loss  Avg-train-accuracy  Avg-val-loss  Avg-val-accuracy\n",
              "3        4.836523            0.741979      0.037899           0.78505\n",
              "4        4.835883            0.806597      0.037894           0.83600\n",
              "5        4.835333            0.856214      0.037892           0.84775"
            ]
          },
          "execution_count": 17,
          "metadata": {},
          "output_type": "execute_result"
        }
      ],
      "source": [
        "plotMetric(metrics, \"Avg-val-accuracy\")\n",
        "metrics.tail(3)"
      ]
    },
    {
      "cell_type": "markdown",
      "id": "732adf00",
      "metadata": {
        "id": "732adf00",
        "papermill": {
          "duration": 0.148084,
          "end_time": "2024-12-18T22:11:23.388751",
          "exception": false,
          "start_time": "2024-12-18T22:11:23.240667",
          "status": "completed"
        },
        "tags": []
      },
      "source": [
        "## Question Box (10pts + 5pts bonus)\n",
        "\n",
        "1- Do we even need normalization for tasks like this? will they provide any accuracy gain? write what you think.\n",
        "> Normalization is highly beneficial for tasks involving deep learning, particularly when working with embeddings and neural networks like CLIP. It ensures that the input features are scaled to a common range, which helps models converge faster and more reliably. For example, in CLIP, embeddings are compared using cosine similarity, which relies on normalized vectors to produce meaningful comparisons. Without normalization, the training process can suffer from unstable gradient updates, leading to slower convergence or even divergence. Additionally, while normalization may not always provide a dramatic increase in accuracy, it often improves overall model stability, training speed, and generalization. For tasks involving contrastive learning or embeddings, normalization is essential to ensure effective distance-based comparisons in the feature space.\n",
        "\n",
        "2- When training a neural network, what takes the memory? mention at least 4 things.\n",
        ">Training a neural network is a memory-intensive process, with several key components consuming GPU or system memory. First, model parameters (weights and biases) require storage, and the larger the model, the more memory it consumes. Second, activations (intermediate outputs) for each layer are stored during the forward pass and used during backpropagation, contributing significantly to memory usage in deep networks. Third, gradients of the loss with respect to the parameters are computed and stored during backpropagation to update the weights. Finally, optimizer states, such as momentum and variance terms in optimizers like Adam, require additional memory for each parameter in the model. These factors combined make memory management a critical consideration when training deep learning models, especially on large datasets or complex architectures.\n",
        "\n",
        "3- find out the actual Open Ai's training configuration of Clip model.\n",
        ">The OpenAI CLIP model was trained using a massive dataset of 400 million image-text pairs collected from the internet. Its architecture consists of two encoders: a Vision Transformer (ViT) or ResNet for images and a Transformer for text. The training utilized a contrastive learning objective, where cosine similarity between image and text embeddings was maximized for matching pairs. OpenAI used the AdamW optimizer with a cosine annealing learning rate scheduler, ensuring stable and efficient convergence. The training was performed on distributed GPU setups, with a massive batch size of 32,768 image-text pairs to fully leverage the available hardware. Additionally, standard image augmentations such as cropping, resizing, and flipping were employed to improve generalization. This large-scale training setup, along with the dual-encoder architecture and contrastive loss, was critical for achieving CLIP’s remarkable zero-shot performance.\n",
        "\n",
        "#### Bonus\n",
        "4- We have an alternative clip's loss implementation, write its pseudocode.\n",
        "<div style=\" margin-left: 40px; border-left: thick gray; display:block;\">\n",
        "    Input: image_embeddings, text_embeddings, temperature\n",
        "\n",
        "1. Normalize image_embeddings and text_embeddings\n",
        "   image_embeddings = image_embeddings / ||image_embeddings||\n",
        "   text_embeddings = text_embeddings / ||text_embeddings||\n",
        "\n",
        "2. Compute similarity scores\n",
        "   logits = (image_embeddings @ text_embeddings.T) / temperature\n",
        "\n",
        "3. Create targets for contrastive loss\n",
        "   targets = Identity matrix of size [batch_size, batch_size]\n",
        "\n",
        "4. Compute loss\n",
        "   image_loss = CrossEntropyLoss(logits, targets)\n",
        "   text_loss = CrossEntropyLoss(logits.T, targets)\n",
        "\n",
        "5. Total loss\n",
        "   total_loss = (image_loss + text_loss) / 2\n",
        "\n",
        "Output: total_loss\n",
        "</div>"
      ]
    }
  ],
  "metadata": {
    "accelerator": "GPU",
    "colab": {
      "gpuType": "T4",
      "provenance": []
    },
    "kaggle": {
      "accelerator": "nvidiaTeslaT4",
      "dataSources": [
        {
          "datasetId": 4600270,
          "sourceId": 7845742,
          "sourceType": "datasetVersion"
        },
        {
          "datasetId": 4600399,
          "sourceId": 7845904,
          "sourceType": "datasetVersion"
        }
      ],
      "dockerImageVersionId": 30823,
      "isGpuEnabled": true,
      "isInternetEnabled": true,
      "language": "python",
      "sourceType": "notebook"
    },
    "kernelspec": {
      "display_name": "Python 3",
      "language": "python",
      "name": "python3"
    },
    "language_info": {
      "codemirror_mode": {
        "name": "ipython",
        "version": 3
      },
      "file_extension": ".py",
      "mimetype": "text/x-python",
      "name": "python",
      "nbconvert_exporter": "python",
      "pygments_lexer": "ipython3",
      "version": "3.10.12"
    },
    "papermill": {
      "default_parameters": {},
      "duration": 17879.671693,
      "end_time": "2024-12-18T22:11:27.581599",
      "environment_variables": {},
      "exception": null,
      "input_path": "__notebook__.ipynb",
      "output_path": "__notebook__.ipynb",
      "parameters": {},
      "start_time": "2024-12-18T17:13:27.909906",
      "version": "2.6.0"
    },
    "widgets": {
      "application/vnd.jupyter.widget-state+json": {
        "05411ea189cf4c72945eba61d24a0533": {
          "model_module": "@jupyter-widgets/controls",
          "model_module_version": "1.5.0",
          "model_name": "DescriptionStyleModel",
          "state": {
            "_model_module": "@jupyter-widgets/controls",
            "_model_module_version": "1.5.0",
            "_model_name": "DescriptionStyleModel",
            "_view_count": null,
            "_view_module": "@jupyter-widgets/base",
            "_view_module_version": "1.2.0",
            "_view_name": "StyleView",
            "description_width": ""
          }
        },
        "1cab5c5488154fc89b9b9df00061ea08": {
          "model_module": "@jupyter-widgets/base",
          "model_module_version": "1.2.0",
          "model_name": "LayoutModel",
          "state": {
            "_model_module": "@jupyter-widgets/base",
            "_model_module_version": "1.2.0",
            "_model_name": "LayoutModel",
            "_view_count": null,
            "_view_module": "@jupyter-widgets/base",
            "_view_module_version": "1.2.0",
            "_view_name": "LayoutView",
            "align_content": null,
            "align_items": null,
            "align_self": null,
            "border": null,
            "bottom": null,
            "display": null,
            "flex": null,
            "flex_flow": null,
            "grid_area": null,
            "grid_auto_columns": null,
            "grid_auto_flow": null,
            "grid_auto_rows": null,
            "grid_column": null,
            "grid_gap": null,
            "grid_row": null,
            "grid_template_areas": null,
            "grid_template_columns": null,
            "grid_template_rows": null,
            "height": null,
            "justify_content": null,
            "justify_items": null,
            "left": null,
            "margin": null,
            "max_height": null,
            "max_width": null,
            "min_height": null,
            "min_width": null,
            "object_fit": null,
            "object_position": null,
            "order": null,
            "overflow": null,
            "overflow_x": null,
            "overflow_y": null,
            "padding": null,
            "right": null,
            "top": null,
            "visibility": null,
            "width": null
          }
        },
        "1f892c7dc5504e2ca5a4ab6efd6aabd3": {
          "model_module": "@jupyter-widgets/base",
          "model_module_version": "1.2.0",
          "model_name": "LayoutModel",
          "state": {
            "_model_module": "@jupyter-widgets/base",
            "_model_module_version": "1.2.0",
            "_model_name": "LayoutModel",
            "_view_count": null,
            "_view_module": "@jupyter-widgets/base",
            "_view_module_version": "1.2.0",
            "_view_name": "LayoutView",
            "align_content": null,
            "align_items": null,
            "align_self": null,
            "border": null,
            "bottom": null,
            "display": null,
            "flex": null,
            "flex_flow": null,
            "grid_area": null,
            "grid_auto_columns": null,
            "grid_auto_flow": null,
            "grid_auto_rows": null,
            "grid_column": null,
            "grid_gap": null,
            "grid_row": null,
            "grid_template_areas": null,
            "grid_template_columns": null,
            "grid_template_rows": null,
            "height": null,
            "justify_content": null,
            "justify_items": null,
            "left": null,
            "margin": null,
            "max_height": null,
            "max_width": null,
            "min_height": null,
            "min_width": null,
            "object_fit": null,
            "object_position": null,
            "order": null,
            "overflow": null,
            "overflow_x": null,
            "overflow_y": null,
            "padding": null,
            "right": null,
            "top": null,
            "visibility": null,
            "width": null
          }
        },
        "39fc6fc88e054e6a93899cd18a32c54e": {
          "model_module": "@jupyter-widgets/controls",
          "model_module_version": "1.5.0",
          "model_name": "HBoxModel",
          "state": {
            "_dom_classes": [],
            "_model_module": "@jupyter-widgets/controls",
            "_model_module_version": "1.5.0",
            "_model_name": "HBoxModel",
            "_view_count": null,
            "_view_module": "@jupyter-widgets/controls",
            "_view_module_version": "1.5.0",
            "_view_name": "HBoxView",
            "box_style": "",
            "children": [
              "IPY_MODEL_b6496aed55fc4821b9c34c9df964ea41",
              "IPY_MODEL_d026f9b7990e45cda45f90488a062e0e",
              "IPY_MODEL_c911cd0d705949388bd7dc3058d3ba2f"
            ],
            "layout": "IPY_MODEL_4ce70c0aaeec4314b335b59665b0c7c0"
          }
        },
        "4a10c562d5304412821ddf3125fa2495": {
          "model_module": "@jupyter-widgets/base",
          "model_module_version": "1.2.0",
          "model_name": "LayoutModel",
          "state": {
            "_model_module": "@jupyter-widgets/base",
            "_model_module_version": "1.2.0",
            "_model_name": "LayoutModel",
            "_view_count": null,
            "_view_module": "@jupyter-widgets/base",
            "_view_module_version": "1.2.0",
            "_view_name": "LayoutView",
            "align_content": null,
            "align_items": null,
            "align_self": null,
            "border": null,
            "bottom": null,
            "display": null,
            "flex": null,
            "flex_flow": null,
            "grid_area": null,
            "grid_auto_columns": null,
            "grid_auto_flow": null,
            "grid_auto_rows": null,
            "grid_column": null,
            "grid_gap": null,
            "grid_row": null,
            "grid_template_areas": null,
            "grid_template_columns": null,
            "grid_template_rows": null,
            "height": null,
            "justify_content": null,
            "justify_items": null,
            "left": null,
            "margin": null,
            "max_height": null,
            "max_width": null,
            "min_height": null,
            "min_width": null,
            "object_fit": null,
            "object_position": null,
            "order": null,
            "overflow": null,
            "overflow_x": null,
            "overflow_y": null,
            "padding": null,
            "right": null,
            "top": null,
            "visibility": null,
            "width": null
          }
        },
        "4ce70c0aaeec4314b335b59665b0c7c0": {
          "model_module": "@jupyter-widgets/base",
          "model_module_version": "1.2.0",
          "model_name": "LayoutModel",
          "state": {
            "_model_module": "@jupyter-widgets/base",
            "_model_module_version": "1.2.0",
            "_model_name": "LayoutModel",
            "_view_count": null,
            "_view_module": "@jupyter-widgets/base",
            "_view_module_version": "1.2.0",
            "_view_name": "LayoutView",
            "align_content": null,
            "align_items": null,
            "align_self": null,
            "border": null,
            "bottom": null,
            "display": null,
            "flex": null,
            "flex_flow": null,
            "grid_area": null,
            "grid_auto_columns": null,
            "grid_auto_flow": null,
            "grid_auto_rows": null,
            "grid_column": null,
            "grid_gap": null,
            "grid_row": null,
            "grid_template_areas": null,
            "grid_template_columns": null,
            "grid_template_rows": null,
            "height": null,
            "justify_content": null,
            "justify_items": null,
            "left": null,
            "margin": null,
            "max_height": null,
            "max_width": null,
            "min_height": null,
            "min_width": null,
            "object_fit": null,
            "object_position": null,
            "order": null,
            "overflow": null,
            "overflow_x": null,
            "overflow_y": null,
            "padding": null,
            "right": null,
            "top": null,
            "visibility": null,
            "width": null
          }
        },
        "6e079f9d0d384decafacac612dd39908": {
          "model_module": "@jupyter-widgets/controls",
          "model_module_version": "1.5.0",
          "model_name": "HTMLModel",
          "state": {
            "_dom_classes": [],
            "_model_module": "@jupyter-widgets/controls",
            "_model_module_version": "1.5.0",
            "_model_name": "HTMLModel",
            "_view_count": null,
            "_view_module": "@jupyter-widgets/controls",
            "_view_module_version": "1.5.0",
            "_view_name": "HTMLView",
            "description": "",
            "description_tooltip": null,
            "layout": "IPY_MODEL_e0b8b2de863d4d1f9f5f8854d5f54587",
            "placeholder": "​",
            "style": "IPY_MODEL_05411ea189cf4c72945eba61d24a0533",
            "value": " 20000/20000 [00:04&lt;00:00, 5689.12 examples/s]"
          }
        },
        "6e12c0a73ad5421ba44a8df5fc572adb": {
          "model_module": "@jupyter-widgets/controls",
          "model_module_version": "1.5.0",
          "model_name": "FloatProgressModel",
          "state": {
            "_dom_classes": [],
            "_model_module": "@jupyter-widgets/controls",
            "_model_module_version": "1.5.0",
            "_model_name": "FloatProgressModel",
            "_view_count": null,
            "_view_module": "@jupyter-widgets/controls",
            "_view_module_version": "1.5.0",
            "_view_name": "ProgressView",
            "bar_style": "success",
            "description": "",
            "description_tooltip": null,
            "layout": "IPY_MODEL_c1883770080c4d9cafc78e1876433f42",
            "max": 20000,
            "min": 0,
            "orientation": "horizontal",
            "style": "IPY_MODEL_8fd40b4077cf4177a00897301a5f7799",
            "value": 20000
          }
        },
        "6ed026e7e76440f4b6487929508cd1cf": {
          "model_module": "@jupyter-widgets/controls",
          "model_module_version": "1.5.0",
          "model_name": "ProgressStyleModel",
          "state": {
            "_model_module": "@jupyter-widgets/controls",
            "_model_module_version": "1.5.0",
            "_model_name": "ProgressStyleModel",
            "_view_count": null,
            "_view_module": "@jupyter-widgets/base",
            "_view_module_version": "1.2.0",
            "_view_name": "StyleView",
            "bar_color": null,
            "description_width": ""
          }
        },
        "7aedd1b577904a169735603587fd6033": {
          "model_module": "@jupyter-widgets/base",
          "model_module_version": "1.2.0",
          "model_name": "LayoutModel",
          "state": {
            "_model_module": "@jupyter-widgets/base",
            "_model_module_version": "1.2.0",
            "_model_name": "LayoutModel",
            "_view_count": null,
            "_view_module": "@jupyter-widgets/base",
            "_view_module_version": "1.2.0",
            "_view_name": "LayoutView",
            "align_content": null,
            "align_items": null,
            "align_self": null,
            "border": null,
            "bottom": null,
            "display": null,
            "flex": null,
            "flex_flow": null,
            "grid_area": null,
            "grid_auto_columns": null,
            "grid_auto_flow": null,
            "grid_auto_rows": null,
            "grid_column": null,
            "grid_gap": null,
            "grid_row": null,
            "grid_template_areas": null,
            "grid_template_columns": null,
            "grid_template_rows": null,
            "height": null,
            "justify_content": null,
            "justify_items": null,
            "left": null,
            "margin": null,
            "max_height": null,
            "max_width": null,
            "min_height": null,
            "min_width": null,
            "object_fit": null,
            "object_position": null,
            "order": null,
            "overflow": null,
            "overflow_x": null,
            "overflow_y": null,
            "padding": null,
            "right": null,
            "top": null,
            "visibility": null,
            "width": null
          }
        },
        "8fd40b4077cf4177a00897301a5f7799": {
          "model_module": "@jupyter-widgets/controls",
          "model_module_version": "1.5.0",
          "model_name": "ProgressStyleModel",
          "state": {
            "_model_module": "@jupyter-widgets/controls",
            "_model_module_version": "1.5.0",
            "_model_name": "ProgressStyleModel",
            "_view_count": null,
            "_view_module": "@jupyter-widgets/base",
            "_view_module_version": "1.2.0",
            "_view_name": "StyleView",
            "bar_color": null,
            "description_width": ""
          }
        },
        "973ed29805424d89a1c6fe7f610dfe8f": {
          "model_module": "@jupyter-widgets/controls",
          "model_module_version": "1.5.0",
          "model_name": "DescriptionStyleModel",
          "state": {
            "_model_module": "@jupyter-widgets/controls",
            "_model_module_version": "1.5.0",
            "_model_name": "DescriptionStyleModel",
            "_view_count": null,
            "_view_module": "@jupyter-widgets/base",
            "_view_module_version": "1.2.0",
            "_view_name": "StyleView",
            "description_width": ""
          }
        },
        "988f2508f0ed420380b9d6b23fbb2275": {
          "model_module": "@jupyter-widgets/base",
          "model_module_version": "1.2.0",
          "model_name": "LayoutModel",
          "state": {
            "_model_module": "@jupyter-widgets/base",
            "_model_module_version": "1.2.0",
            "_model_name": "LayoutModel",
            "_view_count": null,
            "_view_module": "@jupyter-widgets/base",
            "_view_module_version": "1.2.0",
            "_view_name": "LayoutView",
            "align_content": null,
            "align_items": null,
            "align_self": null,
            "border": null,
            "bottom": null,
            "display": null,
            "flex": null,
            "flex_flow": null,
            "grid_area": null,
            "grid_auto_columns": null,
            "grid_auto_flow": null,
            "grid_auto_rows": null,
            "grid_column": null,
            "grid_gap": null,
            "grid_row": null,
            "grid_template_areas": null,
            "grid_template_columns": null,
            "grid_template_rows": null,
            "height": null,
            "justify_content": null,
            "justify_items": null,
            "left": null,
            "margin": null,
            "max_height": null,
            "max_width": null,
            "min_height": null,
            "min_width": null,
            "object_fit": null,
            "object_position": null,
            "order": null,
            "overflow": null,
            "overflow_x": null,
            "overflow_y": null,
            "padding": null,
            "right": null,
            "top": null,
            "visibility": null,
            "width": null
          }
        },
        "afed2af0b24648948b5fc1f527cec21b": {
          "model_module": "@jupyter-widgets/controls",
          "model_module_version": "1.5.0",
          "model_name": "DescriptionStyleModel",
          "state": {
            "_model_module": "@jupyter-widgets/controls",
            "_model_module_version": "1.5.0",
            "_model_name": "DescriptionStyleModel",
            "_view_count": null,
            "_view_module": "@jupyter-widgets/base",
            "_view_module_version": "1.2.0",
            "_view_name": "StyleView",
            "description_width": ""
          }
        },
        "b6496aed55fc4821b9c34c9df964ea41": {
          "model_module": "@jupyter-widgets/controls",
          "model_module_version": "1.5.0",
          "model_name": "HTMLModel",
          "state": {
            "_dom_classes": [],
            "_model_module": "@jupyter-widgets/controls",
            "_model_module_version": "1.5.0",
            "_model_name": "HTMLModel",
            "_view_count": null,
            "_view_module": "@jupyter-widgets/controls",
            "_view_module_version": "1.5.0",
            "_view_name": "HTMLView",
            "description": "",
            "description_tooltip": null,
            "layout": "IPY_MODEL_1cab5c5488154fc89b9b9df00061ea08",
            "placeholder": "​",
            "style": "IPY_MODEL_afed2af0b24648948b5fc1f527cec21b",
            "value": "Map: 100%"
          }
        },
        "c1883770080c4d9cafc78e1876433f42": {
          "model_module": "@jupyter-widgets/base",
          "model_module_version": "1.2.0",
          "model_name": "LayoutModel",
          "state": {
            "_model_module": "@jupyter-widgets/base",
            "_model_module_version": "1.2.0",
            "_model_name": "LayoutModel",
            "_view_count": null,
            "_view_module": "@jupyter-widgets/base",
            "_view_module_version": "1.2.0",
            "_view_name": "LayoutView",
            "align_content": null,
            "align_items": null,
            "align_self": null,
            "border": null,
            "bottom": null,
            "display": null,
            "flex": null,
            "flex_flow": null,
            "grid_area": null,
            "grid_auto_columns": null,
            "grid_auto_flow": null,
            "grid_auto_rows": null,
            "grid_column": null,
            "grid_gap": null,
            "grid_row": null,
            "grid_template_areas": null,
            "grid_template_columns": null,
            "grid_template_rows": null,
            "height": null,
            "justify_content": null,
            "justify_items": null,
            "left": null,
            "margin": null,
            "max_height": null,
            "max_width": null,
            "min_height": null,
            "min_width": null,
            "object_fit": null,
            "object_position": null,
            "order": null,
            "overflow": null,
            "overflow_x": null,
            "overflow_y": null,
            "padding": null,
            "right": null,
            "top": null,
            "visibility": null,
            "width": null
          }
        },
        "c41dabeb8eb14e6fa7ea7827e6b7af26": {
          "model_module": "@jupyter-widgets/controls",
          "model_module_version": "1.5.0",
          "model_name": "HBoxModel",
          "state": {
            "_dom_classes": [],
            "_model_module": "@jupyter-widgets/controls",
            "_model_module_version": "1.5.0",
            "_model_name": "HBoxModel",
            "_view_count": null,
            "_view_module": "@jupyter-widgets/controls",
            "_view_module_version": "1.5.0",
            "_view_name": "HBoxView",
            "box_style": "",
            "children": [
              "IPY_MODEL_d4f6969870164860a57f735ecf8a1b61",
              "IPY_MODEL_6e12c0a73ad5421ba44a8df5fc572adb",
              "IPY_MODEL_6e079f9d0d384decafacac612dd39908"
            ],
            "layout": "IPY_MODEL_7aedd1b577904a169735603587fd6033"
          }
        },
        "c911cd0d705949388bd7dc3058d3ba2f": {
          "model_module": "@jupyter-widgets/controls",
          "model_module_version": "1.5.0",
          "model_name": "HTMLModel",
          "state": {
            "_dom_classes": [],
            "_model_module": "@jupyter-widgets/controls",
            "_model_module_version": "1.5.0",
            "_model_name": "HTMLModel",
            "_view_count": null,
            "_view_module": "@jupyter-widgets/controls",
            "_view_module_version": "1.5.0",
            "_view_name": "HTMLView",
            "description": "",
            "description_tooltip": null,
            "layout": "IPY_MODEL_988f2508f0ed420380b9d6b23fbb2275",
            "placeholder": "​",
            "style": "IPY_MODEL_e696627f60094900a2c228fb9768a6a0",
            "value": " 59999/59999 [00:06&lt;00:00, 4754.05 examples/s]"
          }
        },
        "d026f9b7990e45cda45f90488a062e0e": {
          "model_module": "@jupyter-widgets/controls",
          "model_module_version": "1.5.0",
          "model_name": "FloatProgressModel",
          "state": {
            "_dom_classes": [],
            "_model_module": "@jupyter-widgets/controls",
            "_model_module_version": "1.5.0",
            "_model_name": "FloatProgressModel",
            "_view_count": null,
            "_view_module": "@jupyter-widgets/controls",
            "_view_module_version": "1.5.0",
            "_view_name": "ProgressView",
            "bar_style": "success",
            "description": "",
            "description_tooltip": null,
            "layout": "IPY_MODEL_4a10c562d5304412821ddf3125fa2495",
            "max": 59999,
            "min": 0,
            "orientation": "horizontal",
            "style": "IPY_MODEL_6ed026e7e76440f4b6487929508cd1cf",
            "value": 59999
          }
        },
        "d4f6969870164860a57f735ecf8a1b61": {
          "model_module": "@jupyter-widgets/controls",
          "model_module_version": "1.5.0",
          "model_name": "HTMLModel",
          "state": {
            "_dom_classes": [],
            "_model_module": "@jupyter-widgets/controls",
            "_model_module_version": "1.5.0",
            "_model_name": "HTMLModel",
            "_view_count": null,
            "_view_module": "@jupyter-widgets/controls",
            "_view_module_version": "1.5.0",
            "_view_name": "HTMLView",
            "description": "",
            "description_tooltip": null,
            "layout": "IPY_MODEL_1f892c7dc5504e2ca5a4ab6efd6aabd3",
            "placeholder": "​",
            "style": "IPY_MODEL_973ed29805424d89a1c6fe7f610dfe8f",
            "value": "Map: 100%"
          }
        },
        "e0b8b2de863d4d1f9f5f8854d5f54587": {
          "model_module": "@jupyter-widgets/base",
          "model_module_version": "1.2.0",
          "model_name": "LayoutModel",
          "state": {
            "_model_module": "@jupyter-widgets/base",
            "_model_module_version": "1.2.0",
            "_model_name": "LayoutModel",
            "_view_count": null,
            "_view_module": "@jupyter-widgets/base",
            "_view_module_version": "1.2.0",
            "_view_name": "LayoutView",
            "align_content": null,
            "align_items": null,
            "align_self": null,
            "border": null,
            "bottom": null,
            "display": null,
            "flex": null,
            "flex_flow": null,
            "grid_area": null,
            "grid_auto_columns": null,
            "grid_auto_flow": null,
            "grid_auto_rows": null,
            "grid_column": null,
            "grid_gap": null,
            "grid_row": null,
            "grid_template_areas": null,
            "grid_template_columns": null,
            "grid_template_rows": null,
            "height": null,
            "justify_content": null,
            "justify_items": null,
            "left": null,
            "margin": null,
            "max_height": null,
            "max_width": null,
            "min_height": null,
            "min_width": null,
            "object_fit": null,
            "object_position": null,
            "order": null,
            "overflow": null,
            "overflow_x": null,
            "overflow_y": null,
            "padding": null,
            "right": null,
            "top": null,
            "visibility": null,
            "width": null
          }
        },
        "e696627f60094900a2c228fb9768a6a0": {
          "model_module": "@jupyter-widgets/controls",
          "model_module_version": "1.5.0",
          "model_name": "DescriptionStyleModel",
          "state": {
            "_model_module": "@jupyter-widgets/controls",
            "_model_module_version": "1.5.0",
            "_model_name": "DescriptionStyleModel",
            "_view_count": null,
            "_view_module": "@jupyter-widgets/base",
            "_view_module_version": "1.2.0",
            "_view_name": "StyleView",
            "description_width": ""
          }
        }
      }
    }
  },
  "nbformat": 4,
  "nbformat_minor": 5
}